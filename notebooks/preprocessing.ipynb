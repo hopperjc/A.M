{
 "cells": [
  {
   "cell_type": "code",
   "metadata": {
    "ExecuteTime": {
     "end_time": "2025-05-02T19:51:31.437895Z",
     "start_time": "2025-05-02T19:51:29.726735Z"
    }
   },
   "source": [
    "from collections import Counter\n",
    "from imblearn.over_sampling import SMOTE\n",
    "import joblib\n",
    "import matplotlib.pyplot as plt\n",
    "import numpy as np\n",
    "import pandas as pd\n",
    "from pathlib import Path\n",
    "import seaborn as sns\n",
    "from sklearn.preprocessing import StandardScaler\n",
    "from sklearn.model_selection import train_test_split\n"
   ],
   "outputs": [],
   "execution_count": 1
  },
  {
   "cell_type": "code",
   "metadata": {
    "ExecuteTime": {
     "end_time": "2025-05-02T19:51:36.661807Z",
     "start_time": "2025-05-02T19:51:36.640287Z"
    }
   },
   "source": [
    "# 🔁 Carregando os datasets\n",
    "train_path = Path(\"../data/SPECTF.train\")\n",
    "test_path = Path(\"../data/SPECTF.test\")\n",
    "\n",
    "df_train = pd.read_csv(train_path, header=None)\n",
    "df_test = pd.read_csv(test_path, header=None)\n",
    "\n",
    "# 🔗 Concatenando os dois conjuntos\n",
    "df_full = pd.concat([df_train, df_test], ignore_index=True)\n",
    "\n",
    "print(f\"Shape final: {df_full.shape}\")\n",
    "df_full.head()"
   ],
   "outputs": [
    {
     "name": "stdout",
     "output_type": "stream",
     "text": [
      "Shape final: (267, 45)\n"
     ]
    },
    {
     "data": {
      "text/plain": [
       "   0   1   2   3   4   5   6   7   8   9   ...  35  36  37  38  39  40  41  \\\n",
       "0   1  59  52  70  67  73  66  72  61  58  ...  66  56  62  56  72  62  74   \n",
       "1   1  72  62  69  67  78  82  74  65  69  ...  65  71  63  60  69  73  67   \n",
       "2   1  71  62  70  64  67  64  79  65  70  ...  73  70  66  65  64  55  61   \n",
       "3   1  69  71  70  78  61  63  67  65  59  ...  61  61  66  65  72  73  68   \n",
       "4   1  70  66  61  66  61  58  69  69  72  ...  67  69  70  66  70  64  60   \n",
       "\n",
       "   42  43  44  \n",
       "0  74  64  67  \n",
       "1  71  56  58  \n",
       "2  41  51  46  \n",
       "3  68  59  63  \n",
       "4  55  49  41  \n",
       "\n",
       "[5 rows x 45 columns]"
      ],
      "text/html": [
       "<div>\n",
       "<style scoped>\n",
       "    .dataframe tbody tr th:only-of-type {\n",
       "        vertical-align: middle;\n",
       "    }\n",
       "\n",
       "    .dataframe tbody tr th {\n",
       "        vertical-align: top;\n",
       "    }\n",
       "\n",
       "    .dataframe thead th {\n",
       "        text-align: right;\n",
       "    }\n",
       "</style>\n",
       "<table border=\"1\" class=\"dataframe\">\n",
       "  <thead>\n",
       "    <tr style=\"text-align: right;\">\n",
       "      <th></th>\n",
       "      <th>0</th>\n",
       "      <th>1</th>\n",
       "      <th>2</th>\n",
       "      <th>3</th>\n",
       "      <th>4</th>\n",
       "      <th>5</th>\n",
       "      <th>6</th>\n",
       "      <th>7</th>\n",
       "      <th>8</th>\n",
       "      <th>9</th>\n",
       "      <th>...</th>\n",
       "      <th>35</th>\n",
       "      <th>36</th>\n",
       "      <th>37</th>\n",
       "      <th>38</th>\n",
       "      <th>39</th>\n",
       "      <th>40</th>\n",
       "      <th>41</th>\n",
       "      <th>42</th>\n",
       "      <th>43</th>\n",
       "      <th>44</th>\n",
       "    </tr>\n",
       "  </thead>\n",
       "  <tbody>\n",
       "    <tr>\n",
       "      <th>0</th>\n",
       "      <td>1</td>\n",
       "      <td>59</td>\n",
       "      <td>52</td>\n",
       "      <td>70</td>\n",
       "      <td>67</td>\n",
       "      <td>73</td>\n",
       "      <td>66</td>\n",
       "      <td>72</td>\n",
       "      <td>61</td>\n",
       "      <td>58</td>\n",
       "      <td>...</td>\n",
       "      <td>66</td>\n",
       "      <td>56</td>\n",
       "      <td>62</td>\n",
       "      <td>56</td>\n",
       "      <td>72</td>\n",
       "      <td>62</td>\n",
       "      <td>74</td>\n",
       "      <td>74</td>\n",
       "      <td>64</td>\n",
       "      <td>67</td>\n",
       "    </tr>\n",
       "    <tr>\n",
       "      <th>1</th>\n",
       "      <td>1</td>\n",
       "      <td>72</td>\n",
       "      <td>62</td>\n",
       "      <td>69</td>\n",
       "      <td>67</td>\n",
       "      <td>78</td>\n",
       "      <td>82</td>\n",
       "      <td>74</td>\n",
       "      <td>65</td>\n",
       "      <td>69</td>\n",
       "      <td>...</td>\n",
       "      <td>65</td>\n",
       "      <td>71</td>\n",
       "      <td>63</td>\n",
       "      <td>60</td>\n",
       "      <td>69</td>\n",
       "      <td>73</td>\n",
       "      <td>67</td>\n",
       "      <td>71</td>\n",
       "      <td>56</td>\n",
       "      <td>58</td>\n",
       "    </tr>\n",
       "    <tr>\n",
       "      <th>2</th>\n",
       "      <td>1</td>\n",
       "      <td>71</td>\n",
       "      <td>62</td>\n",
       "      <td>70</td>\n",
       "      <td>64</td>\n",
       "      <td>67</td>\n",
       "      <td>64</td>\n",
       "      <td>79</td>\n",
       "      <td>65</td>\n",
       "      <td>70</td>\n",
       "      <td>...</td>\n",
       "      <td>73</td>\n",
       "      <td>70</td>\n",
       "      <td>66</td>\n",
       "      <td>65</td>\n",
       "      <td>64</td>\n",
       "      <td>55</td>\n",
       "      <td>61</td>\n",
       "      <td>41</td>\n",
       "      <td>51</td>\n",
       "      <td>46</td>\n",
       "    </tr>\n",
       "    <tr>\n",
       "      <th>3</th>\n",
       "      <td>1</td>\n",
       "      <td>69</td>\n",
       "      <td>71</td>\n",
       "      <td>70</td>\n",
       "      <td>78</td>\n",
       "      <td>61</td>\n",
       "      <td>63</td>\n",
       "      <td>67</td>\n",
       "      <td>65</td>\n",
       "      <td>59</td>\n",
       "      <td>...</td>\n",
       "      <td>61</td>\n",
       "      <td>61</td>\n",
       "      <td>66</td>\n",
       "      <td>65</td>\n",
       "      <td>72</td>\n",
       "      <td>73</td>\n",
       "      <td>68</td>\n",
       "      <td>68</td>\n",
       "      <td>59</td>\n",
       "      <td>63</td>\n",
       "    </tr>\n",
       "    <tr>\n",
       "      <th>4</th>\n",
       "      <td>1</td>\n",
       "      <td>70</td>\n",
       "      <td>66</td>\n",
       "      <td>61</td>\n",
       "      <td>66</td>\n",
       "      <td>61</td>\n",
       "      <td>58</td>\n",
       "      <td>69</td>\n",
       "      <td>69</td>\n",
       "      <td>72</td>\n",
       "      <td>...</td>\n",
       "      <td>67</td>\n",
       "      <td>69</td>\n",
       "      <td>70</td>\n",
       "      <td>66</td>\n",
       "      <td>70</td>\n",
       "      <td>64</td>\n",
       "      <td>60</td>\n",
       "      <td>55</td>\n",
       "      <td>49</td>\n",
       "      <td>41</td>\n",
       "    </tr>\n",
       "  </tbody>\n",
       "</table>\n",
       "<p>5 rows × 45 columns</p>\n",
       "</div>"
      ]
     },
     "execution_count": 2,
     "metadata": {},
     "output_type": "execute_result"
    }
   ],
   "execution_count": 2
  },
  {
   "cell_type": "code",
   "metadata": {
    "ExecuteTime": {
     "end_time": "2025-05-02T19:51:47.063180Z",
     "start_time": "2025-05-02T19:51:47.059146Z"
    }
   },
   "source": [
    "# Combinar os conjuntos de dados\n",
    "df_full = pd.concat([df_train, df_test], ignore_index=True)\n",
    "\n",
    "# Separar características e rótulos\n",
    "X = df_full.iloc[:, 1:]\n",
    "y = df_full.iloc[:, 0]"
   ],
   "outputs": [],
   "execution_count": 3
  },
  {
   "cell_type": "code",
   "metadata": {
    "ExecuteTime": {
     "end_time": "2025-05-02T19:51:50.623354Z",
     "start_time": "2025-05-02T19:51:50.465693Z"
    }
   },
   "source": [
    "# Verificar a distribuição das classes\n",
    "sns.countplot(x=y)\n",
    "plt.title('Distribuição das Classes')\n",
    "plt.show()\n",
    "\n",
    "# Verificar estatísticas descritivas\n",
    "print(X.describe())"
   ],
   "outputs": [
    {
     "data": {
      "text/plain": [
       "<Figure size 640x480 with 1 Axes>"
      ],
      "image/png": "[encoded data removed]"
     },
     "metadata": {},
     "output_type": "display_data"
    },
    {
     "name": "stdout",
     "output_type": "stream",
     "text": [
      "               1           2           3           4           5           6   \\\n",
      "count  267.000000  267.000000  267.000000  267.000000  267.000000  267.000000   \n",
      "mean    66.183521   64.913858   68.677903   69.078652   64.801498   63.966292   \n",
      "std      8.250315    9.444937    6.593543    8.394267    8.826328    9.479835   \n",
      "min     23.000000   21.000000   38.000000   34.000000   21.000000   25.000000   \n",
      "25%     62.000000   60.000000   65.000000   66.000000   61.000000   60.000000   \n",
      "50%     67.000000   66.000000   69.000000   71.000000   66.000000   66.000000   \n",
      "75%     71.500000   71.000000   73.000000   74.000000   70.000000   70.000000   \n",
      "max     83.000000   81.000000   82.000000   84.000000   82.000000   89.000000   \n",
      "\n",
      "               7           8           9           10  ...          35  \\\n",
      "count  267.000000  267.000000  267.000000  267.000000  ...  267.000000   \n",
      "mean    70.168539   69.389513   63.295880   62.232210  ...   63.906367   \n",
      "std      8.355678    9.497030    9.020783    9.340188  ...    7.937410   \n",
      "min     21.000000   20.000000   12.000000   22.000000  ...   18.000000   \n",
      "25%     68.000000   67.000000   61.000000   58.000000  ...   62.000000   \n",
      "50%     72.000000   72.000000   65.000000   64.000000  ...   66.000000   \n",
      "75%     75.000000   75.000000   68.000000   68.000000  ...   68.000000   \n",
      "max     85.000000   83.000000   77.000000   78.000000  ...   76.000000   \n",
      "\n",
      "               36          37          38          39          40          41  \\\n",
      "count  267.000000  267.000000  267.000000  267.000000  267.000000  267.000000   \n",
      "mean    62.584270   65.247191   64.198502   65.902622   64.052434   62.438202   \n",
      "std     10.948075    7.885383    9.251393   12.086696   12.693505   14.436760   \n",
      "min     13.000000   33.000000   18.000000   11.000000    6.000000    5.000000   \n",
      "25%     61.000000   62.000000   60.000000   62.500000   60.000000   59.500000   \n",
      "50%     65.000000   66.000000   66.000000   69.000000   67.000000   67.000000   \n",
      "75%     69.000000   71.000000   71.000000   73.000000   72.000000   72.000000   \n",
      "max     77.000000   80.000000   79.000000   83.000000   81.000000   82.000000   \n",
      "\n",
      "               42          43          44  \n",
      "count  267.000000  267.000000  267.000000  \n",
      "mean    60.411985   52.580524   50.535581  \n",
      "std     15.200500   12.809920   14.548133  \n",
      "min      8.000000   11.000000    4.000000  \n",
      "25%     56.000000   49.000000   45.000000  \n",
      "50%     65.000000   56.000000   55.000000  \n",
      "75%     70.000000   61.000000   60.000000  \n",
      "max     83.000000   82.000000   73.000000  \n",
      "\n",
      "[8 rows x 44 columns]\n"
     ]
    }
   ],
   "execution_count": 4
  },
  {
   "cell_type": "code",
   "metadata": {
    "ExecuteTime": {
     "end_time": "2025-05-02T19:51:54.924071Z",
     "start_time": "2025-05-02T19:51:54.853756Z"
    }
   },
   "source": [
    "# Balanceamento das classes\n",
    "smote = SMOTE(random_state=42)\n",
    "X_resampled, y_resampled = smote.fit_resample(X, y)\n",
    "\n",
    "# Checa a nova contagem das classes\n",
    "print(\"Distribuição após SMOTE:\", Counter(y_resampled))\n",
    "\n",
    "# Ou em DataFrame + gráfico\n",
    "sns.countplot(x=pd.Series(y_resampled))\n",
    "plt.title(\"Distribuição das Classes após SMOTE\")\n",
    "plt.show()"
   ],
   "outputs": [
    {
     "name": "stdout",
     "output_type": "stream",
     "text": [
      "Distribuição após SMOTE: Counter({1: 212, 0: 212})\n"
     ]
    },
    {
     "data": {
      "text/plain": [
       "<Figure size 640x480 with 1 Axes>"
      ],
      "image/png": "[encoded data removed]"
     },
     "metadata": {},
     "output_type": "display_data"
    }
   ],
   "execution_count": 5
  },
  {
   "cell_type": "code",
   "metadata": {
    "ExecuteTime": {
     "end_time": "2025-05-02T19:51:59.702859Z",
     "start_time": "2025-05-02T19:51:59.693410Z"
    }
   },
   "source": [
    "# Primeiro: separa treino (80%) e temp (20%)\n",
    "X_train, X_temp, y_train, y_temp = train_test_split(\n",
    "    X_resampled, y_resampled,\n",
    "    test_size=0.2, random_state=42, stratify=y_resampled\n",
    ")\n",
    "\n",
    "# Depois: divide temp igualmente em validação (10%) e teste (10%)\n",
    "X_val, X_test, y_val, y_test = train_test_split(\n",
    "    X_temp, y_temp,\n",
    "    test_size=0.5, random_state=42, stratify=y_temp\n",
    ")"
   ],
   "outputs": [],
   "execution_count": 6
  },
  {
   "cell_type": "code",
   "metadata": {
    "ExecuteTime": {
     "end_time": "2025-05-02T19:52:05.642861Z",
     "start_time": "2025-05-02T19:52:05.639302Z"
    }
   },
   "source": [
    "from collections import Counter\n",
    "\n",
    "print(\"Treino:\", Counter(y_train))\n",
    "print(\"Validação:\", Counter(y_val))\n",
    "print(\"Teste:\", Counter(y_test))"
   ],
   "outputs": [
    {
     "name": "stdout",
     "output_type": "stream",
     "text": [
      "Treino: Counter({1: 170, 0: 169})\n",
      "Validação: Counter({1: 21, 0: 21})\n",
      "Teste: Counter({0: 22, 1: 21})\n"
     ]
    }
   ],
   "execution_count": 7
  },
  {
   "cell_type": "code",
   "metadata": {
    "ExecuteTime": {
     "end_time": "2025-05-02T19:55:13.723198Z",
     "start_time": "2025-05-02T19:55:13.712197Z"
    }
   },
   "source": [
    "# Normalização\n",
    "scaler = StandardScaler()\n",
    "X_train_scaled = scaler.fit_transform(X_train)\n",
    "X_val_scaled = scaler.transform(X_val)\n",
    "X_test_scaled = scaler.transform(X_test)\n",
    "\n",
    "# Salvar os dados normalizados e balanceados\n",
    "joblib.dump((X_train_scaled, y_train), \"../data/train_balanced.pkl\")\n",
    "joblib.dump((X_val_scaled, y_val), \"../data/val_balanced.pkl\")\n",
    "joblib.dump((X_test_scaled, y_test), \"../data/test_balanced.pkl\")"
   ],
   "outputs": [
    {
     "data": {
      "text/plain": [
       "['../data/test_balanced.pkl']"
      ]
     },
     "execution_count": 9,
     "metadata": {},
     "output_type": "execute_result"
    }
   ],
   "execution_count": 9
  },
  {
   "cell_type": "code",
   "execution_count": null,
   "metadata": {},
   "outputs": [],
   "source": []
  }
 ],
 "metadata": {
  "kernelspec": {
   "display_name": "venv",
   "language": "python",
   "name": "python3"
  },
  "language_info": {
   "codemirror_mode": {
    "name": "ipython",
    "version": 3
   },
   "file_extension": ".py",
   "mimetype": "text/x-python",
   "name": "python",
   "nbconvert_exporter": "python",
   "pygments_lexer": "ipython3",
   "version": "3.13.1"
  }
 },
 "nbformat": 4,
 "nbformat_minor": 2
}
