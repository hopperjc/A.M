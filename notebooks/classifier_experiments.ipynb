{
 "cells": [
  {
   "cell_type": "code",
   "execution_count": 48,
   "id": "da2196da",
   "metadata": {},
   "outputs": [],
   "source": [
    "import sys\n",
    "from pathlib import Path\n",
    "\n",
    "# Adiciona o caminho da pasta src ao sys.path\n",
    "sys.path.append(str(Path(\"../src\").resolve()))"
   ]
  },
  {
   "cell_type": "code",
   "execution_count": 49,
   "id": "7548669f",
   "metadata": {},
   "outputs": [],
   "source": [
    "from evaluation import *\n",
    "\n",
    "from classifiers import BayesianKNNClassifier\n",
    "from sklearn.linear_model import LogisticRegression\n",
    "from sklearn.model_selection import StratifiedKFold\n",
    "from classifiers import BayesianGaussianClassifier, MajorityVoteClassifier\n",
    "from sklearn.metrics import accuracy_score, precision_score, recall_score, f1_score\n",
    "\n",
    "import numpy as np\n",
    "import pandas as pd\n",
    "import joblib\n",
    "from collections import Counter"
   ]
  },
  {
   "cell_type": "code",
   "execution_count": 50,
   "id": "280abb93",
   "metadata": {},
   "outputs": [
    {
     "name": "stdout",
     "output_type": "stream",
     "text": [
      "Shape dos dados: (424, 44)\n",
      "Distribuição das classes: Counter({np.int64(0): 212, np.int64(1): 212})\n"
     ]
    }
   ],
   "source": [
    "# Carrega os dados balanceados e normalizados\n",
    "X_train, y_train = joblib.load(\"../data/train_balanced.pkl\")\n",
    "X_val, y_val = joblib.load(\"../data/val_balanced.pkl\")\n",
    "X_test, y_test = joblib.load(\"../data/test_balanced.pkl\")\n",
    "\n",
    "# Junta tudo para clustering (sem separar)\n",
    "X = np.concatenate([X_train, X_val, X_test], axis=0)\n",
    "y = np.concatenate([y_train, y_val, y_test], axis=0)\n",
    "\n",
    "print(\"Shape dos dados:\", X.shape)\n",
    "print(\"Distribuição das classes:\", Counter(y))\n"
   ]
  },
  {
   "cell_type": "code",
   "execution_count": null,
   "id": "ba18ed5e",
   "metadata": {},
   "outputs": [],
   "source": [
    "N_RUNS = 30\n",
    "N_FOLDS = 10\n",
    "SEED = 42\n",
    "rng = np.random.RandomState(SEED)\n",
    "\n",
    "results_knn = []\n",
    "results_logistic = []\n",
    "results_majority = []\n"
   ]
  },
  {
   "cell_type": "code",
   "execution_count": null,
   "id": "f6cb9d9d",
   "metadata": {},
   "outputs": [],
   "source": [
    "for run in range(N_RUNS):\n",
    "    skf = StratifiedKFold(n_splits=N_FOLDS, shuffle=True, random_state=rng.randint(0, 10000))\n",
    "\n",
    "    for train_idx, test_idx in skf.split(X, y):\n",
    "        X_train_cv, X_test_cv = X[train_idx], X[test_idx]\n",
    "        y_train_cv, y_test_cv = y[train_idx], y[test_idx]\n",
    "\n",
    "        best_knn_params = select_best_bayesian_knn(X_train_cv, y_train_cv)\n",
    "        best_logistic_params = select_best_logistic(X_train_cv, y_train_cv)\n",
    "\n",
    "        # Instancia modelos com melhores hiperparâmetros\n",
    "        knn_model = BayesianKNNClassifier(**best_knn_params)\n",
    "        logistic_model = LogisticRegression(**best_logistic_params, solver=\"liblinear\")\n",
    "        bayes_model = BayesianGaussianClassifier()\n",
    "\n",
    "        knn_model.fit(X_train_cv, y_train_cv)\n",
    "        logistic_model.fit(X_train_cv, y_train_cv)\n",
    "        bayes_model.fit(X_train_cv, y_train_cv)\n",
    "\n",
    "        # Modelo de votação\n",
    "        majority_model = MajorityVoteClassifier([bayes_model, knn_model, logistic_model])\n",
    "        majority_model.fit(X_train_cv, y_train_cv)\n",
    "\n",
    "        # Função de avaliação\n",
    "        def evaluate(model):\n",
    "            y_pred = model.predict(X_test_cv)\n",
    "            return {\n",
    "                \"accuracy\": accuracy_score(y_test_cv, y_pred),\n",
    "                \"precision\": precision_score(y_test_cv, y_pred, zero_division=0),\n",
    "                \"recall\": recall_score(y_test_cv, y_pred, zero_division=0),\n",
    "                \"f1\": f1_score(y_test_cv, y_pred, zero_division=0)\n",
    "            }\n",
    "\n",
    "        results_knn.append(evaluate(knn_model))\n",
    "        results_logistic.append(evaluate(logistic_model))\n",
    "        results_majority.append(evaluate(majority_model))\n"
   ]
  },
  {
   "cell_type": "code",
   "execution_count": 53,
   "id": "6e7a4256",
   "metadata": {},
   "outputs": [
    {
     "data": {
      "text/html": [
       "<div>\n",
       "<style scoped>\n",
       "    .dataframe tbody tr th:only-of-type {\n",
       "        vertical-align: middle;\n",
       "    }\n",
       "\n",
       "    .dataframe tbody tr th {\n",
       "        vertical-align: top;\n",
       "    }\n",
       "\n",
       "    .dataframe thead th {\n",
       "        text-align: right;\n",
       "    }\n",
       "</style>\n",
       "<table border=\"1\" class=\"dataframe\">\n",
       "  <thead>\n",
       "    <tr style=\"text-align: right;\">\n",
       "      <th></th>\n",
       "      <th>accuracy</th>\n",
       "      <th>precision</th>\n",
       "      <th>recall</th>\n",
       "      <th>f1</th>\n",
       "    </tr>\n",
       "  </thead>\n",
       "  <tbody>\n",
       "    <tr>\n",
       "      <th>0</th>\n",
       "      <td>0.720930</td>\n",
       "      <td>0.909091</td>\n",
       "      <td>0.476190</td>\n",
       "      <td>0.625000</td>\n",
       "    </tr>\n",
       "    <tr>\n",
       "      <th>1</th>\n",
       "      <td>0.813953</td>\n",
       "      <td>1.000000</td>\n",
       "      <td>0.619048</td>\n",
       "      <td>0.764706</td>\n",
       "    </tr>\n",
       "    <tr>\n",
       "      <th>2</th>\n",
       "      <td>0.790698</td>\n",
       "      <td>1.000000</td>\n",
       "      <td>0.590909</td>\n",
       "      <td>0.742857</td>\n",
       "    </tr>\n",
       "    <tr>\n",
       "      <th>3</th>\n",
       "      <td>0.837209</td>\n",
       "      <td>1.000000</td>\n",
       "      <td>0.681818</td>\n",
       "      <td>0.810811</td>\n",
       "    </tr>\n",
       "    <tr>\n",
       "      <th>4</th>\n",
       "      <td>0.833333</td>\n",
       "      <td>1.000000</td>\n",
       "      <td>0.666667</td>\n",
       "      <td>0.800000</td>\n",
       "    </tr>\n",
       "  </tbody>\n",
       "</table>\n",
       "</div>"
      ],
      "text/plain": [
       "   accuracy  precision    recall        f1\n",
       "0  0.720930   0.909091  0.476190  0.625000\n",
       "1  0.813953   1.000000  0.619048  0.764706\n",
       "2  0.790698   1.000000  0.590909  0.742857\n",
       "3  0.837209   1.000000  0.681818  0.810811\n",
       "4  0.833333   1.000000  0.666667  0.800000"
      ]
     },
     "execution_count": 53,
     "metadata": {},
     "output_type": "execute_result"
    }
   ],
   "source": [
    "df_knn = pd.DataFrame(results_knn)\n",
    "df_logistic = pd.DataFrame(results_logistic)\n",
    "df_majority = pd.DataFrame(results_majority)\n",
    "\n",
    "df_knn.head()"
   ]
  }
 ],
 "metadata": {
  "kernelspec": {
   "display_name": "Python (meu_ambiente)",
   "language": "python",
   "name": "meu_ambiente"
  },
  "language_info": {
   "codemirror_mode": {
    "name": "ipython",
    "version": 3
   },
   "file_extension": ".py",
   "mimetype": "text/x-python",
   "name": "python",
   "nbconvert_exporter": "python",
   "pygments_lexer": "ipython3",
   "version": "3.12.10"
  }
 },
 "nbformat": 4,
 "nbformat_minor": 5
}
